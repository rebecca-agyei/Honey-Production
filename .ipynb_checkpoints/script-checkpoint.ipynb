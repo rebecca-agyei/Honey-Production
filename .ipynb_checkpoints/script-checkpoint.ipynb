{
 "cells": [
  {
   "cell_type": "code",
   "execution_count": null,
   "id": "b69765ed",
   "metadata": {},
   "outputs": [],
   "source": [
    "import pandas as pd\n",
    "import matplotlib.pyplot as plt\n",
    "import numpy as np\n",
    "from sklearn import linear_model\n",
    "\n",
    "# Check out the Data\n",
    "\n",
    "df = pd.read_csv(\"https://content.codecademy.com/programs/data-science-path/linear_regression/honeyproduction.csv\")\n",
    "\n",
    "# print(df.head())\n",
    "\n",
    "prod_per_year = df.groupby('year').totalprod.mean().reset_index()\n",
    "# print(prod_per_year)\n",
    "\n",
    "X = prod_per_year['year']\n",
    "X = X.values.reshape(-1, 1)\n",
    "\n",
    "y = prod_per_year['totalprod'].values\n",
    "\n",
    "plt.scatter(X, y)\n",
    "plt.show()\n",
    "\n",
    "\n",
    "# Create and Fit a Linear Regression Model\n",
    "\n",
    "regr = linear_model.LinearRegression()\n",
    "regr.fit(X, y)\n",
    "\n",
    "print(regr.coef_)\n",
    "print(regr.intercept_)\n",
    "\n",
    "y_predict = regr.predict(X)\n",
    "plt.plot(X, y_predict)\n",
    "plt.show()\n",
    "\n",
    "# Predict the Honey Decline\n",
    "\n",
    "X_future = np.array(range(2013, 2051))\n",
    "X_future = X_future.reshape(-1, 1)\n",
    "# print(X_future)\n",
    "\n",
    "future_predict = regr.predict(X_future)\n",
    "# print(future_predict)\n",
    "\n",
    "plt.plot(X_future, future_predict)\n",
    "plt.scatter(X, y)\n",
    "plt.show()\n"
   ]
  }
 ],
 "metadata": {
  "kernelspec": {
   "display_name": "Python 3",
   "language": "python",
   "name": "python3"
  },
  "language_info": {
   "codemirror_mode": {
    "name": "ipython",
    "version": 3
   },
   "file_extension": ".py",
   "mimetype": "text/x-python",
   "name": "python",
   "nbconvert_exporter": "python",
   "pygments_lexer": "ipython3",
   "version": "3.8.8"
  }
 },
 "nbformat": 4,
 "nbformat_minor": 5
}
